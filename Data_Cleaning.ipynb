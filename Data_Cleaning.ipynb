{
  "nbformat": 4,
  "nbformat_minor": 0,
  "metadata": {
    "colab": {
      "provenance": [],
      "include_colab_link": true
    },
    "kernelspec": {
      "name": "python3",
      "display_name": "Python 3"
    },
    "language_info": {
      "name": "python"
    }
  },
  "cells": [
    {
      "cell_type": "markdown",
      "metadata": {
        "id": "view-in-github",
        "colab_type": "text"
      },
      "source": [
        "<a href=\"https://colab.research.google.com/github/KemalRajasa/rsbp/blob/main/Data_Cleaning.ipynb\" target=\"_parent\"><img src=\"https://colab.research.google.com/assets/colab-badge.svg\" alt=\"Open In Colab\"/></a>"
      ]
    },
    {
      "cell_type": "code",
      "execution_count": null,
      "metadata": {
        "id": "grQ8uWcCMy6O"
      },
      "outputs": [],
      "source": [
        "import pandas as pd"
      ]
    },
    {
      "cell_type": "code",
      "source": [
        "df = pd.read_csv('used_car_clean.csv')"
      ],
      "metadata": {
        "id": "BhI6hTvSAQt9"
      },
      "execution_count": null,
      "outputs": []
    },
    {
      "cell_type": "code",
      "source": [
        "df.info()"
      ],
      "metadata": {
        "colab": {
          "base_uri": "https://localhost:8080/"
        },
        "id": "TrHCR05fAYk9",
        "outputId": "73e6990b-51a9-41ee-c216-22f9ea14fbfb"
      },
      "execution_count": null,
      "outputs": [
        {
          "output_type": "stream",
          "name": "stdout",
          "text": [
            "<class 'pandas.core.frame.DataFrame'>\n",
            "RangeIndex: 4009 entries, 0 to 4008\n",
            "Data columns (total 12 columns):\n",
            " #   Column        Non-Null Count  Dtype \n",
            "---  ------        --------------  ----- \n",
            " 0   brand         4009 non-null   object\n",
            " 1   model         4009 non-null   object\n",
            " 2   model_year    4009 non-null   int64 \n",
            " 3   milage        4009 non-null   int64 \n",
            " 4   fuel_type     4009 non-null   object\n",
            " 5   engine        4009 non-null   object\n",
            " 6   transmission  4009 non-null   object\n",
            " 7   ext_col       4009 non-null   object\n",
            " 8   int_col       4009 non-null   object\n",
            " 9   accident      4009 non-null   object\n",
            " 10  clean_title   4009 non-null   object\n",
            " 11  price         4009 non-null   object\n",
            "dtypes: int64(2), object(10)\n",
            "memory usage: 376.0+ KB\n"
          ]
        }
      ]
    },
    {
      "cell_type": "markdown",
      "source": [
        "# Transmission"
      ],
      "metadata": {
        "id": "VgiuvBsjEPmw"
      }
    },
    {
      "cell_type": "code",
      "source": [
        "df['transmission'].unique()"
      ],
      "metadata": {
        "colab": {
          "base_uri": "https://localhost:8080/"
        },
        "id": "P1BoMOKYAbID",
        "outputId": "980d0656-a6d3-4967-fdfc-d1ed54963c64"
      },
      "execution_count": null,
      "outputs": [
        {
          "output_type": "execute_result",
          "data": {
            "text/plain": [
              "array(['6-Speed A/T', '8-Speed Automatic', 'Automatic', '7-Speed A/T',\n",
              "       'F', 'A/T', '8-Speed A/T', 'Transmission w/Dual Shift Mode',\n",
              "       '9-Speed Automatic', '6-Speed M/T', '10-Speed A/T', '9-Speed A/T',\n",
              "       '5-Speed A/T', '1-Speed A/T', 'Automatic CVT',\n",
              "       '7-Speed Automatic with Auto-Shift', 'CVT-F', 'M/T',\n",
              "       '6-Speed Automatic with Auto-Shift', '10-Speed Automatic',\n",
              "       'CVT Transmission', '4-Speed A/T', '6-Speed Automatic',\n",
              "       '4-Speed Automatic', '7-Speed M/T',\n",
              "       '8-Speed Automatic with Auto-Shift', '5-Speed Automatic',\n",
              "       '8-SPEED AT', '1-Speed Automatic', '5-Speed M/T', 'Manual',\n",
              "       '6-Speed Manual', 'Variable', '2', '7-Speed Manual',\n",
              "       'Automatic, 9-Spd 9G-Tronic', 'Automatic, 8-Spd',\n",
              "       'Automatic, 8-Spd Sport w/Sport & Manual Modes', '–',\n",
              "       'Auto, 6-Spd w/CmdShft', 'Transmission Overdrive Switch',\n",
              "       '7-Speed Automatic', 'Automatic, 8-Spd PDK Dual-Clutch',\n",
              "       'Automatic, 8-Spd M STEPTRONIC w/Drivelogic, Sport & Manual Modes',\n",
              "       'Automatic, 8-Spd Dual-Clutch', '6-Speed',\n",
              "       'Single-Speed Fixed Gear', 'Automatic, 10-Spd',\n",
              "       '2-Speed Automatic', '7-Speed',\n",
              "       'Automatic, 7-Spd S tronic Dual-Clutch', 'Manual, 6-Spd',\n",
              "       '6-Speed Electronically Controlled Automatic with O',\n",
              "       '6 Speed At/Mt', '8-SPEED A/T',\n",
              "       '10-Speed Automatic with Overdrive', '7-Speed DCT Automatic',\n",
              "       '9-Speed Automatic with Auto-Shift',\n",
              "       'SCHEDULED FOR OR IN PRODUCTION', '2-Speed A/T', '6 Speed Mt',\n",
              "       '8-Speed Manual'], dtype=object)"
            ]
          },
          "metadata": {},
          "execution_count": 43
        }
      ]
    },
    {
      "cell_type": "code",
      "source": [
        "def normalize_transmission(transmission):\n",
        "    if 'A/T' in transmission:\n",
        "        return 'Automatic'\n",
        "    elif 'M/T' in transmission:\n",
        "        return 'Manual'\n",
        "    elif 'Automatic' in transmission:\n",
        "        return 'Automatic'\n",
        "    elif 'Manual' in transmission:\n",
        "        return 'Manual'\n",
        "    elif 'CVT' in transmission:\n",
        "        return 'Automatic'\n",
        "    elif 'Dual Shift' in transmission:\n",
        "        return 'Dual Shift'\n",
        "    elif 'Overdrive' in transmission:\n",
        "        return 'Dual Shift'\n",
        "    elif '8-SPEED AT' in transmission:\n",
        "        return 'Automatic'\n",
        "    elif '6 Speed At/Mt' in transmission:\n",
        "        return 'Dual Shift'\n",
        "    elif 'Auto' in transmission:\n",
        "        return 'Dual Shift'\n",
        "    elif 'Mt' in transmission:\n",
        "        return 'Dual Shift'\n",
        "    else:\n",
        "      return;\n",
        "\n",
        "df['transmission'] = df['transmission'].apply(normalize_transmission)\n",
        "\n",
        "display(df['transmission'].value_counts())"
      ],
      "metadata": {
        "colab": {
          "base_uri": "https://localhost:8080/",
          "height": 209
        },
        "id": "yVUgsFVTA0KF",
        "outputId": "a9204162-270c-4b95-a092-9a75d4473bb3"
      },
      "execution_count": null,
      "outputs": [
        {
          "output_type": "display_data",
          "data": {
            "text/plain": [
              "transmission\n",
              "Automatic     3212\n",
              "Dual Shift     408\n",
              "Manual         372\n",
              "Name: count, dtype: int64"
            ],
            "text/html": [
              "<div>\n",
              "<style scoped>\n",
              "    .dataframe tbody tr th:only-of-type {\n",
              "        vertical-align: middle;\n",
              "    }\n",
              "\n",
              "    .dataframe tbody tr th {\n",
              "        vertical-align: top;\n",
              "    }\n",
              "\n",
              "    .dataframe thead th {\n",
              "        text-align: right;\n",
              "    }\n",
              "</style>\n",
              "<table border=\"1\" class=\"dataframe\">\n",
              "  <thead>\n",
              "    <tr style=\"text-align: right;\">\n",
              "      <th></th>\n",
              "      <th>count</th>\n",
              "    </tr>\n",
              "    <tr>\n",
              "      <th>transmission</th>\n",
              "      <th></th>\n",
              "    </tr>\n",
              "  </thead>\n",
              "  <tbody>\n",
              "    <tr>\n",
              "      <th>Automatic</th>\n",
              "      <td>3212</td>\n",
              "    </tr>\n",
              "    <tr>\n",
              "      <th>Dual Shift</th>\n",
              "      <td>408</td>\n",
              "    </tr>\n",
              "    <tr>\n",
              "      <th>Manual</th>\n",
              "      <td>372</td>\n",
              "    </tr>\n",
              "  </tbody>\n",
              "</table>\n",
              "</div><br><label><b>dtype:</b> int64</label>"
            ]
          },
          "metadata": {}
        }
      ]
    },
    {
      "cell_type": "code",
      "source": [
        "df.info()"
      ],
      "metadata": {
        "colab": {
          "base_uri": "https://localhost:8080/"
        },
        "id": "fo0hu-W_DfpB",
        "outputId": "c2d1cc18-9d66-4983-9af0-01230ba042b4"
      },
      "execution_count": null,
      "outputs": [
        {
          "output_type": "stream",
          "name": "stdout",
          "text": [
            "<class 'pandas.core.frame.DataFrame'>\n",
            "RangeIndex: 4009 entries, 0 to 4008\n",
            "Data columns (total 12 columns):\n",
            " #   Column        Non-Null Count  Dtype \n",
            "---  ------        --------------  ----- \n",
            " 0   brand         4009 non-null   object\n",
            " 1   model         4009 non-null   object\n",
            " 2   model_year    4009 non-null   int64 \n",
            " 3   milage        4009 non-null   int64 \n",
            " 4   fuel_type     4009 non-null   object\n",
            " 5   engine        4009 non-null   object\n",
            " 6   transmission  3992 non-null   object\n",
            " 7   ext_col       4009 non-null   object\n",
            " 8   int_col       4009 non-null   object\n",
            " 9   accident      4009 non-null   object\n",
            " 10  clean_title   4009 non-null   object\n",
            " 11  price         4009 non-null   object\n",
            "dtypes: int64(2), object(10)\n",
            "memory usage: 376.0+ KB\n"
          ]
        }
      ]
    },
    {
      "cell_type": "code",
      "source": [
        "cleaned_df = df.dropna()"
      ],
      "metadata": {
        "id": "6NXMXLlxDn5D"
      },
      "execution_count": null,
      "outputs": []
    },
    {
      "cell_type": "code",
      "source": [
        "cleaned_df.info()"
      ],
      "metadata": {
        "colab": {
          "base_uri": "https://localhost:8080/"
        },
        "id": "jvQypp3MDxIZ",
        "outputId": "26f9bff5-3a9e-44c4-8afd-e142f58626af"
      },
      "execution_count": null,
      "outputs": [
        {
          "output_type": "stream",
          "name": "stdout",
          "text": [
            "<class 'pandas.core.frame.DataFrame'>\n",
            "Index: 3992 entries, 0 to 4008\n",
            "Data columns (total 12 columns):\n",
            " #   Column        Non-Null Count  Dtype \n",
            "---  ------        --------------  ----- \n",
            " 0   brand         3992 non-null   object\n",
            " 1   model         3992 non-null   object\n",
            " 2   model_year    3992 non-null   int64 \n",
            " 3   milage        3992 non-null   int64 \n",
            " 4   fuel_type     3992 non-null   object\n",
            " 5   engine        3992 non-null   object\n",
            " 6   transmission  3992 non-null   object\n",
            " 7   ext_col       3992 non-null   object\n",
            " 8   int_col       3992 non-null   object\n",
            " 9   accident      3992 non-null   object\n",
            " 10  clean_title   3992 non-null   object\n",
            " 11  price         3992 non-null   object\n",
            "dtypes: int64(2), object(10)\n",
            "memory usage: 405.4+ KB\n"
          ]
        }
      ]
    },
    {
      "cell_type": "markdown",
      "source": [
        "# Fuel Type"
      ],
      "metadata": {
        "id": "XkGMQMcEESbK"
      }
    },
    {
      "cell_type": "code",
      "source": [
        "cleaned_df['fuel_type'].unique()"
      ],
      "metadata": {
        "colab": {
          "base_uri": "https://localhost:8080/"
        },
        "id": "dRZm6pD2EUt9",
        "outputId": "4e432229-4ce5-470d-8413-3fd8c917ef99"
      },
      "execution_count": null,
      "outputs": [
        {
          "output_type": "execute_result",
          "data": {
            "text/plain": [
              "array(['E85 Flex Fuel', 'Gasoline', 'Hybrid', 'not defined', 'Diesel',\n",
              "       'Plug-In Hybrid', 'not supported'], dtype=object)"
            ]
          },
          "metadata": {},
          "execution_count": 54
        }
      ]
    },
    {
      "cell_type": "code",
      "source": [
        "def normalize_fuel(fuel):\n",
        "    if 'not supported' in fuel:\n",
        "      return 'not defined'\n",
        "    else:\n",
        "      return fuel;\n",
        "\n",
        "cleaned_df['fuel_type'] = cleaned_df['fuel_type'].apply(normalize_fuel)\n",
        "\n",
        "display(cleaned_df['fuel_type'].value_counts())"
      ],
      "metadata": {
        "colab": {
          "base_uri": "https://localhost:8080/",
          "height": 407
        },
        "id": "xuz9lZw8Ehet",
        "outputId": "9d77d87c-b167-459c-aacc-27e0bedf4714"
      },
      "execution_count": null,
      "outputs": [
        {
          "output_type": "stream",
          "name": "stderr",
          "text": [
            "/tmp/ipython-input-3075801941.py:7: SettingWithCopyWarning: \n",
            "A value is trying to be set on a copy of a slice from a DataFrame.\n",
            "Try using .loc[row_indexer,col_indexer] = value instead\n",
            "\n",
            "See the caveats in the documentation: https://pandas.pydata.org/pandas-docs/stable/user_guide/indexing.html#returning-a-view-versus-a-copy\n",
            "  cleaned_df['fuel_type'] = cleaned_df['fuel_type'].apply(normalize_fuel)\n"
          ]
        },
        {
          "output_type": "display_data",
          "data": {
            "text/plain": [
              "fuel_type\n",
              "Gasoline          3297\n",
              "not defined        214\n",
              "Hybrid             192\n",
              "E85 Flex Fuel      139\n",
              "Diesel             116\n",
              "Plug-In Hybrid      34\n",
              "Name: count, dtype: int64"
            ],
            "text/html": [
              "<div>\n",
              "<style scoped>\n",
              "    .dataframe tbody tr th:only-of-type {\n",
              "        vertical-align: middle;\n",
              "    }\n",
              "\n",
              "    .dataframe tbody tr th {\n",
              "        vertical-align: top;\n",
              "    }\n",
              "\n",
              "    .dataframe thead th {\n",
              "        text-align: right;\n",
              "    }\n",
              "</style>\n",
              "<table border=\"1\" class=\"dataframe\">\n",
              "  <thead>\n",
              "    <tr style=\"text-align: right;\">\n",
              "      <th></th>\n",
              "      <th>count</th>\n",
              "    </tr>\n",
              "    <tr>\n",
              "      <th>fuel_type</th>\n",
              "      <th></th>\n",
              "    </tr>\n",
              "  </thead>\n",
              "  <tbody>\n",
              "    <tr>\n",
              "      <th>Gasoline</th>\n",
              "      <td>3297</td>\n",
              "    </tr>\n",
              "    <tr>\n",
              "      <th>not defined</th>\n",
              "      <td>214</td>\n",
              "    </tr>\n",
              "    <tr>\n",
              "      <th>Hybrid</th>\n",
              "      <td>192</td>\n",
              "    </tr>\n",
              "    <tr>\n",
              "      <th>E85 Flex Fuel</th>\n",
              "      <td>139</td>\n",
              "    </tr>\n",
              "    <tr>\n",
              "      <th>Diesel</th>\n",
              "      <td>116</td>\n",
              "    </tr>\n",
              "    <tr>\n",
              "      <th>Plug-In Hybrid</th>\n",
              "      <td>34</td>\n",
              "    </tr>\n",
              "  </tbody>\n",
              "</table>\n",
              "</div><br><label><b>dtype:</b> int64</label>"
            ]
          },
          "metadata": {}
        }
      ]
    },
    {
      "cell_type": "markdown",
      "source": [
        "# Clean Title Status"
      ],
      "metadata": {
        "id": "Ndq4-DU8FFln"
      }
    },
    {
      "cell_type": "code",
      "source": [
        "def normalize_clean(status):\n",
        "    if 'not defined' in status:\n",
        "      return 'No'\n",
        "    else:\n",
        "      return status;\n",
        "\n",
        "cleaned_df['clean_title'] = cleaned_df['clean_title'].apply(normalize_clean)\n",
        "\n",
        "display(cleaned_df['clean_title'].value_counts())"
      ],
      "metadata": {
        "colab": {
          "base_uri": "https://localhost:8080/",
          "height": 282
        },
        "id": "1j3IE3FyFDok",
        "outputId": "918a5e11-e52b-4e5a-ff89-1480de114cb1"
      },
      "execution_count": null,
      "outputs": [
        {
          "output_type": "stream",
          "name": "stderr",
          "text": [
            "/tmp/ipython-input-1024596015.py:7: SettingWithCopyWarning: \n",
            "A value is trying to be set on a copy of a slice from a DataFrame.\n",
            "Try using .loc[row_indexer,col_indexer] = value instead\n",
            "\n",
            "See the caveats in the documentation: https://pandas.pydata.org/pandas-docs/stable/user_guide/indexing.html#returning-a-view-versus-a-copy\n",
            "  cleaned_df['clean_title'] = cleaned_df['clean_title'].apply(normalize_clean)\n"
          ]
        },
        {
          "output_type": "display_data",
          "data": {
            "text/plain": [
              "clean_title\n",
              "Yes    3410\n",
              "No      582\n",
              "Name: count, dtype: int64"
            ],
            "text/html": [
              "<div>\n",
              "<style scoped>\n",
              "    .dataframe tbody tr th:only-of-type {\n",
              "        vertical-align: middle;\n",
              "    }\n",
              "\n",
              "    .dataframe tbody tr th {\n",
              "        vertical-align: top;\n",
              "    }\n",
              "\n",
              "    .dataframe thead th {\n",
              "        text-align: right;\n",
              "    }\n",
              "</style>\n",
              "<table border=\"1\" class=\"dataframe\">\n",
              "  <thead>\n",
              "    <tr style=\"text-align: right;\">\n",
              "      <th></th>\n",
              "      <th>count</th>\n",
              "    </tr>\n",
              "    <tr>\n",
              "      <th>clean_title</th>\n",
              "      <th></th>\n",
              "    </tr>\n",
              "  </thead>\n",
              "  <tbody>\n",
              "    <tr>\n",
              "      <th>Yes</th>\n",
              "      <td>3410</td>\n",
              "    </tr>\n",
              "    <tr>\n",
              "      <th>No</th>\n",
              "      <td>582</td>\n",
              "    </tr>\n",
              "  </tbody>\n",
              "</table>\n",
              "</div><br><label><b>dtype:</b> int64</label>"
            ]
          },
          "metadata": {}
        }
      ]
    },
    {
      "cell_type": "code",
      "source": [
        "cleaned_df.to_csv(\"used_car_final_clean.csv\", index=False)"
      ],
      "metadata": {
        "id": "SfRIrOBjGMos"
      },
      "execution_count": null,
      "outputs": []
    }
  ]
}